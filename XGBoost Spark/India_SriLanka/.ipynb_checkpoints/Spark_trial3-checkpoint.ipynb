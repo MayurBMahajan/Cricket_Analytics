{
 "cells": [
  {
   "cell_type": "code",
   "execution_count": 1,
   "metadata": {
    "collapsed": true
   },
   "outputs": [],
   "source": [
    "import pyspark.mllib.stat as st\n",
    "import numpy as np\n",
    "import pandas as pd\n",
    "import matplotlib.pyplot as plt\n",
    "import seaborn as sns\n",
    "from pyspark.sql import SQLContext"
   ]
  },
  {
   "cell_type": "code",
   "execution_count": 2,
   "metadata": {
    "collapsed": true
   },
   "outputs": [],
   "source": [
    "from pyspark.sql import SparkSession\n",
    "from pyspark.sql.functions import isnan,isnull,when,count,col"
   ]
  },
  {
   "cell_type": "code",
   "execution_count": 3,
   "metadata": {
    "collapsed": true
   },
   "outputs": [],
   "source": [
    "spark=SparkSession.builder.appName('Spark_trial1').config(\"spark.executor.memory\", \"6g\").getOrCreate()"
   ]
  },
  {
   "cell_type": "code",
   "execution_count": 4,
   "metadata": {},
   "outputs": [
    {
     "data": {
      "text/plain": [
       "DataFrame[batsman: string, bowler: string, date: string, extras.byes: int, extras.legbyes: int, extras.noballs: int, extras.penalty: string, extras.s: string, extras.wides: int, index_all: int, non_striker: string, runs.batsman: int, runs.extras: int, runs.non_boundary: int, runs.total: int, team: string, wicket: string, wicket.fielders: string, wicket.kind: string, wicket.player_out: string, info.match_type: string, info.neutral_venue: int, info.outcome.by.runs: int, info.outcome.by.wickets: int, info.outcome.winner: string, info.overs: int, info.player_of_match: string, info.teams: string, info.toss.decision: string, info.toss.winner: string, over: int, team_order: int]"
      ]
     },
     "execution_count": 4,
     "metadata": {},
     "output_type": "execute_result"
    }
   ],
   "source": [
    "data=spark.read.csv('real_final_SL_IND.csv',inferSchema=True,header=True)\n",
    "data.persist()"
   ]
  },
  {
   "cell_type": "code",
   "execution_count": 5,
   "metadata": {
    "collapsed": true
   },
   "outputs": [],
   "source": [
    "df=data.toPandas()"
   ]
  },
  {
   "cell_type": "code",
   "execution_count": 6,
   "metadata": {},
   "outputs": [
    {
     "name": "stderr",
     "output_type": "stream",
     "text": [
      "C:\\Anaconda3\\lib\\site-packages\\pandas\\core\\indexing.py:179: SettingWithCopyWarning: \n",
      "A value is trying to be set on a copy of a slice from a DataFrame\n",
      "\n",
      "See the caveats in the documentation: http://pandas.pydata.org/pandas-docs/stable/indexing.html#indexing-view-versus-copy\n",
      "  self._setitem_with_indexer(indexer, value)\n"
     ]
    }
   ],
   "source": [
    "#Find the runs and wickets per over for both the teams\n",
    "df['wicket.player_out'].fillna(0,inplace=True)\n",
    "df['wicket.player_out'].loc[df['wicket.player_out']!=0]=1\n",
    "train_df=df.groupby(['index_all','over','team','info.outcome.winner','team_order'])[['runs.total','wicket.player_out']].agg(['sum']).reset_index()\n",
    "train_df.columns= train_df.columns.get_level_values(0)"
   ]
  },
  {
   "cell_type": "code",
   "execution_count": 7,
   "metadata": {
    "collapsed": true
   },
   "outputs": [],
   "source": [
    "#Find the Innings Score and wickets\n",
    "train_df['innings_wickets']=train_df.groupby(['index_all','team'])['wicket.player_out'].cumsum()\n",
    "train_df['innings_score']=train_df.groupby(['index_all','team'])['runs.total'].cumsum()"
   ]
  },
  {
   "cell_type": "code",
   "execution_count": 8,
   "metadata": {
    "collapsed": true
   },
   "outputs": [],
   "source": [
    "# Find  the target column\n",
    "temp_df=train_df.groupby(['index_all','team_order'])['runs.total'].sum().reset_index()\n",
    "temp_df=temp_df.loc[temp_df['team_order']==1,:]\n",
    "temp_df['team_order']=0\n",
    "temp_df.columns = ['index_all','team_order','score_target']\n",
    "train_df=train_df.merge(temp_df,how='left',on=['index_all','team_order'])\n",
    "train_df['score_target']=train_df['score_target'].fillna(-1)"
   ]
  },
  {
   "cell_type": "code",
   "execution_count": 9,
   "metadata": {
    "collapsed": true
   },
   "outputs": [],
   "source": [
    "#Find the remaining target of the innings\n",
    "def get_remaining_target(row):\n",
    "    if row['score_target'] == -1.:\n",
    "        return -1\n",
    "    else:\n",
    "        return row['score_target'] - row['innings_score']"
   ]
  },
  {
   "cell_type": "code",
   "execution_count": 10,
   "metadata": {
    "collapsed": true
   },
   "outputs": [],
   "source": [
    "train_df['remaining_target'] = train_df.apply(lambda row: get_remaining_target(row),axis=1)"
   ]
  },
  {
   "cell_type": "code",
   "execution_count": 11,
   "metadata": {
    "collapsed": true
   },
   "outputs": [],
   "source": [
    "# Find the run rate of the innings\n",
    "train_df['run_rate'] = train_df['innings_score'] / train_df['over']"
   ]
  },
  {
   "cell_type": "code",
   "execution_count": 12,
   "metadata": {
    "collapsed": true
   },
   "outputs": [],
   "source": [
    "#Find the required run rate \n",
    "def get_required_runrate(row):\n",
    "    if row['remaining_target'] == -1:\n",
    "        return -1.\n",
    "    elif row['over'] == 50:\n",
    "        return 69\n",
    "    else:\n",
    "        return row['remaining_target'] / (50-row['over'])"
   ]
  },
  {
   "cell_type": "code",
   "execution_count": 13,
   "metadata": {
    "collapsed": true
   },
   "outputs": [],
   "source": [
    "train_df['required_run_rate'] = train_df.apply(lambda row: get_required_runrate(row), axis=1)"
   ]
  },
  {
   "cell_type": "code",
   "execution_count": 14,
   "metadata": {
    "collapsed": true
   },
   "outputs": [],
   "source": [
    "def get_runrate_diff(row):\n",
    "    if row['team_order'] == 1:\n",
    "        return -1\n",
    "    else:\n",
    "        return row['run_rate'] - row['required_run_rate']"
   ]
  },
  {
   "cell_type": "code",
   "execution_count": 15,
   "metadata": {
    "collapsed": true
   },
   "outputs": [],
   "source": [
    "train_df['runrate_diff'] = train_df.apply(lambda row: get_runrate_diff(row), axis=1)"
   ]
  },
  {
   "cell_type": "code",
   "execution_count": 16,
   "metadata": {
    "collapsed": true
   },
   "outputs": [],
   "source": [
    "train_df['target'] = (train_df['team'] == train_df['info.outcome.winner']).astype('int')"
   ]
  },
  {
   "cell_type": "code",
   "execution_count": 17,
   "metadata": {},
   "outputs": [
    {
     "name": "stdout",
     "output_type": "stream",
     "text": [
      "(4810, 11) (4810,)\n",
      "(99, 11) (99,)\n"
     ]
    }
   ],
   "source": [
    "x_cols = ['team_order', 'over', 'runs.total', 'wicket.player_out', 'innings_wickets', 'innings_score', 'score_target', 'remaining_target', 'run_rate', 'required_run_rate', 'runrate_diff']\n",
    "val_df = train_df.loc[train_df.index_all == 1443,:]\n",
    "dev_df = train_df.loc[train_df.index_all != 1443,:]\n",
    "\n",
    "# create the input and target variables #\n",
    "dev_X = np.array(dev_df[x_cols[:]])\n",
    "dev_y = np.array(dev_df['target'])\n",
    "val_X = np.array(val_df[x_cols[:]])[:-1,:]\n",
    "val_y = np.array(val_df['target'])[:-1]\n",
    "print(dev_X.shape, dev_y.shape)\n",
    "print(val_X.shape, val_y.shape)"
   ]
  },
  {
   "cell_type": "code",
   "execution_count": 18,
   "metadata": {
    "collapsed": true
   },
   "outputs": [],
   "source": [
    "def runXGB(train_X, train_y, seed_val=0):\n",
    "    import xgboost as xg\n",
    "    param = {}\n",
    "    param['objective'] = 'binary:logistic'\n",
    "    param['eta'] = 0.05\n",
    "    param['max_depth'] = 8\n",
    "    param['silent'] = 1\n",
    "    param['eval_metric'] = \"auc\"\n",
    "    param['min_child_weight'] = 1\n",
    "    param['subsample'] = 0.7\n",
    "    param['colsample_bytree'] = 0.7\n",
    "    param['seed'] = seed_val\n",
    "    num_rounds = 100\n",
    "    xgtrain = xg.DMatrix(train_X, label=train_y)\n",
    "    model = xg.train(param, xgtrain, num_rounds)\n",
    "    return model"
   ]
  },
  {
   "cell_type": "code",
   "execution_count": 19,
   "metadata": {
    "collapsed": true
   },
   "outputs": [],
   "source": [
    "#Predict the outcome using XGboost Function\n",
    "import xgboost as xgb\n",
    "model=runXGB(dev_X, dev_y)\n",
    "xgtest = xgb.DMatrix(val_X)\n",
    "preds = model.predict(xgtest)"
   ]
  },
  {
   "cell_type": "code",
   "execution_count": 20,
   "metadata": {
    "collapsed": true
   },
   "outputs": [],
   "source": [
    "out_df = pd.DataFrame({'Team1':val_df['team_order'].values})\n",
    "out_df['innings_over']=val_df['over'].values\n",
    "out_df['innings_score'] = val_df['innings_score'].values\n",
    "out_df['innings_wickets'] = val_df['innings_wickets'].values\n",
    "out_df['score_target'] = val_df['score_target'].values\n",
    "out_df['total_runs'] = val_df['runs.total'].values\n",
    "out_df['predictions'] = list(preds)+[1]\n",
    "out_df.sort_values(['Team1','innings_over'],inplace=True)"
   ]
  },
  {
   "cell_type": "code",
   "execution_count": 21,
   "metadata": {},
   "outputs": [
    {
     "data": {
      "image/png": "[encoded data removed]",
      "text/plain": [
       "<matplotlib.figure.Figure at 0x231c3f00e80>"
      ]
     },
     "metadata": {},
     "output_type": "display_data"
    }
   ],
   "source": [
    "fig, ax1 = plt.subplots(figsize=(12,6))\n",
    "ax2 = ax1.twinx()\n",
    "labels = np.array(out_df['innings_over'])\n",
    "ind = np.arange(len(labels))\n",
    "width = 0.7\n",
    "rects = ax1.bar(ind, np.array(out_df['total_runs']), width=width, color=['green']*50 + ['yellow']*50)\n",
    "ax1.set_xticks(ind+((width)/0.2))\n",
    "ax1.set_xticklabels(labels, rotation='vertical')\n",
    "ax1.set_ylabel(\"Runs in the given over\")\n",
    "ax1.set_xlabel(\"Innings and over\")\n",
    "ax1.set_title(\"Win percentage prediction for India vs Sri Lanka - over by over\")\n",
    "ax2.plot(ind+0.35, np.array(out_df['predictions']), color='b', marker='o')\n",
    "ax2.set_ylabel(\"Win percentage\", color='b')\n",
    "ax2.set_ylim([0,1])\n",
    "ax2.grid(b=False)\n",
    "plt.show()"
   ]
  }
 ],
 "metadata": {
  "kernelspec": {
   "display_name": "Python 3",
   "language": "python",
   "name": "python3"
  },
  "language_info": {
   "codemirror_mode": {
    "name": "ipython",
    "version": 3
   },
   "file_extension": ".py",
   "mimetype": "text/x-python",
   "name": "python",
   "nbconvert_exporter": "python",
   "pygments_lexer": "ipython3",
   "version": "3.6.3"
  }
 },
 "nbformat": 4,
 "nbformat_minor": 2
}
