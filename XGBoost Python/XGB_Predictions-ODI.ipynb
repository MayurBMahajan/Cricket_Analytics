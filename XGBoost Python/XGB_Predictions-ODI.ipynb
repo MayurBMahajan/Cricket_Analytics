{
 "cells": [
  {
   "cell_type": "markdown",
   "metadata": {},
   "source": [
    "**This Trial For Predictions for T20 Matches over wise using XGBOOST."
   ]
  },
  {
   "cell_type": "code",
   "execution_count": 1,
   "metadata": {
    "collapsed": true
   },
   "outputs": [],
   "source": [
    "#Import all the packages\n",
    "import operator\n",
    "import pandas as pd\n",
    "import numpy as np\n",
    "import matplotlib.pyplot as plt\n",
    "import xgboost as xgb\n",
    "import seaborn as sns\n",
    "import ast\n",
    "import matplotlib.pyplot\n",
    "%matplotlib inline\n",
    "import seaborn as sns\n",
    "from ipywidgets import interact\n",
    "#from packages_stat import packages_stats"
   ]
  },
  {
   "cell_type": "code",
   "execution_count": 2,
   "metadata": {
    "collapsed": true
   },
   "outputs": [],
   "source": [
    "#Import match type \n",
    "pd.set_option('display.max_columns', 50)\n",
    "\n",
    "match_df=pd.read_csv(\"real_final_scores_2.csv\")\n",
    "\n",
    "match_df = match_df[(match_df['info.match_type']=='ODI')]\n",
    "#match_df = match_df[(match_df['info.outcome.result']!='no result') & (match_df['info.outcome.result']!='tie')]"
   ]
  },
  {
   "cell_type": "code",
   "execution_count": 3,
   "metadata": {
    "collapsed": true
   },
   "outputs": [],
   "source": [
    "#input the team names\n",
    "team_1=\"India\"\n",
    "team_2=\"Sri Lanka\""
   ]
  },
  {
   "cell_type": "code",
   "execution_count": null,
   "metadata": {
    "collapsed": true
   },
   "outputs": [],
   "source": [
    "#get the data of those above mentioned matches in a dataframe.\n",
    "def get_matches(match_df,team_1,team_2):\n",
    "    match_df['info.teams'] = match_df['info.teams'].str.strip().apply(ast.literal_eval)\n",
    "    ndf = match_df['info.teams'].apply(pd.Series)\n",
    "    idx = ndf[ndf.isin([team_1,team_2]).all(1)].index\n",
    "    match_df=match_df.loc[idx]\n",
    "    return match_df\n",
    "    \n",
    "df=get_matches(match_df,team_1,team_2)"
   ]
  },
  {
   "cell_type": "code",
   "execution_count": null,
   "metadata": {
    "collapsed": true
   },
   "outputs": [],
   "source": [
    "#Encode the Batting 1st team as 1 and Batting 2nd as 0. \n",
    "match_index=df['index_all'].unique()\n",
    "d=[]\n",
    "for i in match_index:\n",
    "    match=df[df['index_all']==i]\n",
    "    try:\n",
    "        for j,k in match.iterrows():\n",
    "            a,b=match['team'].unique()\n",
    "            if (k['team']==a):\n",
    "                d.append(1)\n",
    "            else:\n",
    "                d.append(0)\n",
    "    except:\n",
    "        print(i)\n",
    "            \n",
    "           \n",
    "df['team_order']=d\n",
    "        "
   ]
  },
  {
   "cell_type": "code",
   "execution_count": null,
   "metadata": {
    "collapsed": true
   },
   "outputs": [],
   "source": [
    "#Find the runs and wickets per over for both the teams\n",
    "df['wicket.player_out'].fillna(0,inplace=True)\n",
    "df['wicket.player_out'].loc[df['wicket.player_out']!=0]=1\n",
    "train_df=df.groupby(['index_all','over','team','info.outcome.winner','team_order'])[['runs.total','wicket.player_out']].agg(['sum']).reset_index()\n",
    "train_df.columns= train_df.columns.get_level_values(0)\n"
   ]
  },
  {
   "cell_type": "code",
   "execution_count": null,
   "metadata": {
    "collapsed": true
   },
   "outputs": [],
   "source": [
    "#Find the Innings Score and wickets\n",
    "train_df['innings_wickets']=train_df.groupby(['index_all','team'])['wicket.player_out'].cumsum()\n",
    "train_df['innings_score']=train_df.groupby(['index_all','team'])['runs.total'].cumsum()"
   ]
  },
  {
   "cell_type": "code",
   "execution_count": null,
   "metadata": {
    "collapsed": true
   },
   "outputs": [],
   "source": [
    "# Find  the target column\n",
    "temp_df=train_df.groupby(['index_all','team_order'])['runs.total'].sum().reset_index()\n",
    "temp_df=temp_df.loc[temp_df['team_order']==1,:]\n",
    "temp_df['team_order']=0\n",
    "temp_df.columns = ['index_all','team_order','score_target']\n",
    "train_df=train_df.merge(temp_df,how='left',on=['index_all','team_order'])\n",
    "train_df['score_target']=train_df['score_target'].fillna(-1)"
   ]
  },
  {
   "cell_type": "code",
   "execution_count": null,
   "metadata": {
    "collapsed": true
   },
   "outputs": [],
   "source": [
    "#Find the remaining target of the innings\n",
    "def get_remaining_target(row):\n",
    "    if row['score_target'] == -1.:\n",
    "        return -1\n",
    "    else:\n",
    "        return row['score_target'] - row['innings_score']"
   ]
  },
  {
   "cell_type": "code",
   "execution_count": null,
   "metadata": {
    "collapsed": true
   },
   "outputs": [],
   "source": [
    "train_df['remaining_target'] = train_df.apply(lambda row: get_remaining_target(row),axis=1)"
   ]
  },
  {
   "cell_type": "code",
   "execution_count": null,
   "metadata": {
    "collapsed": true
   },
   "outputs": [],
   "source": [
    "# Find the run rate of the innings\n",
    "train_df['run_rate'] = train_df['innings_score'] / train_df['over']"
   ]
  },
  {
   "cell_type": "code",
   "execution_count": null,
   "metadata": {
    "collapsed": true
   },
   "outputs": [],
   "source": [
    "#Find the required run rate \n",
    "def get_required_runrate(row):\n",
    "    if row['remaining_target'] == -1:\n",
    "        return -1.\n",
    "    elif row['over'] == 50:\n",
    "        return 69\n",
    "    else:\n",
    "        return row['remaining_target'] / (50-row['over'])"
   ]
  },
  {
   "cell_type": "code",
   "execution_count": null,
   "metadata": {
    "collapsed": true
   },
   "outputs": [],
   "source": [
    "train_df['required_run_rate'] = train_df.apply(lambda row: get_required_runrate(row), axis=1)"
   ]
  },
  {
   "cell_type": "code",
   "execution_count": null,
   "metadata": {
    "collapsed": true
   },
   "outputs": [],
   "source": [
    "def get_runrate_diff(row):\n",
    "    if row['team_order'] == 1:\n",
    "        return -1\n",
    "    else:\n",
    "        return row['run_rate'] - row['required_run_rate']"
   ]
  },
  {
   "cell_type": "code",
   "execution_count": null,
   "metadata": {
    "collapsed": true
   },
   "outputs": [],
   "source": [
    "train_df['runrate_diff'] = train_df.apply(lambda row: get_runrate_diff(row), axis=1)"
   ]
  },
  {
   "cell_type": "code",
   "execution_count": null,
   "metadata": {
    "collapsed": true
   },
   "outputs": [],
   "source": [
    "train_df['target'] = (train_df['team'] == train_df['info.outcome.winner']).astype('int')"
   ]
  },
  {
   "cell_type": "markdown",
   "metadata": {},
   "source": [
    "Now for Cross validation, We can use sklearn.cross_validation and use last match as test dataset. "
   ]
  },
  {
   "cell_type": "code",
   "execution_count": null,
   "metadata": {
    "collapsed": true
   },
   "outputs": [],
   "source": [
    "#val is for testing\n",
    "#dev is for training\n",
    "#test_df=val_df[x_cols[:]]\n",
    "#batting_1st=test_df['team']==1\n",
    "#batting_2nd=(test_df.team==2)&(test_df.over<6)\n",
    "#train_df_df=test_df[batting_1st | batting_2nd]\n",
    "\n",
    "x_cols = ['team_order', 'over', 'runs.total', 'wicket.player_out', 'innings_wickets', 'innings_score', 'score_target', 'remaining_target', 'run_rate', 'required_run_rate', 'runrate_diff']\n",
    "#train_df=train_df.drop(['info.outcome.winner'],axis=1)\n",
    "val_df = train_df.loc[train_df.index_all == 905,:]\n",
    "dev_df = train_df.loc[train_df.index_all != 905,:]\n",
    "\n",
    "# create the input and target variables #\n",
    "dev_X = np.array(dev_df[x_cols[:]])\n",
    "dev_y = np.array(dev_df['target'])\n",
    "val_X = np.array(val_df[x_cols[:]])[:-1,:]\n",
    "val_y = np.array(val_df['target'])[:-1]\n",
    "print(dev_X.shape, dev_y.shape)\n",
    "print(val_X.shape, val_y.shape)"
   ]
  },
  {
   "cell_type": "markdown",
   "metadata": {},
   "source": [
    "**We use XGBoost Algorithm, to predict outcome of the 2nd innings based on various factors such as\n",
    "1. 1st Innings Score\n",
    "2. Number of Wickets Fallen\n",
    "3. Past History of Matches played between 2 teams\n",
    "4. Over by Over comparision between number of wickets and run scored by each team. \n",
    "5. Current Run Rate and Required Run Rate"
   ]
  },
  {
   "cell_type": "code",
   "execution_count": null,
   "metadata": {
    "collapsed": true
   },
   "outputs": [],
   "source": [
    "def runXGB(train_X, train_y, seed_val=0):\n",
    "    import xgboost as xg\n",
    "    param = {}\n",
    "    param['objective'] = 'binary:logistic'\n",
    "    param['eta'] = 0.05\n",
    "    param['max_depth'] = 8\n",
    "    param['silent'] = 1\n",
    "    param['eval_metric'] = \"auc\"\n",
    "    param['min_child_weight'] = 1\n",
    "    param['subsample'] = 0.7\n",
    "    param['colsample_bytree'] = 0.7\n",
    "    param['seed'] = seed_val\n",
    "    num_rounds = 100\n",
    "    #plst = list(param.items())\n",
    "    xgtrain = xg.DMatrix(train_X, label=train_y)\n",
    "    model = xg.train(param, xgtrain, num_rounds)\n",
    "    return model"
   ]
  },
  {
   "cell_type": "code",
   "execution_count": null,
   "metadata": {
    "collapsed": true
   },
   "outputs": [],
   "source": [
    "#Predict the outcome using XGboost Function\n",
    "import xgboost as xgb\n",
    "model=runXGB(dev_X, dev_y)\n",
    "xgtest = xgb.DMatrix(val_X)\n",
    "preds = model.predict(xgtest)"
   ]
  },
  {
   "cell_type": "code",
   "execution_count": null,
   "metadata": {
    "collapsed": true
   },
   "outputs": [],
   "source": [
    "def create_feature_map(features):\n",
    "    outfile = open('xgb.fmap', 'w')\n",
    "    for i, feat in enumerate(features):\n",
    "        outfile.write('{0}\\t{1}\\tq\\n'.format(i,feat))\n",
    "    outfile.close()\n",
    "\n",
    "create_feature_map(x_cols)\n",
    "importance = model.get_fscore(fmap='xgb.fmap')\n",
    "importance = sorted(importance.items(), key=operator.itemgetter(1), reverse=True)\n",
    "imp_df = pd.DataFrame(importance, columns=['feature','fscore'])\n",
    "imp_df['fscore'] = imp_df['fscore'] / imp_df['fscore'].sum()\n",
    "\n",
    "# create a function for labeling #\n",
    "def autolabel(rects):\n",
    "    for rect in rects:\n",
    "        height = rect.get_height()\n",
    "        ax.text(rect.get_x() + rect.get_width()/2., 1.02*height,\n",
    "                '%f' % float(height),\n",
    "                ha='center', va='bottom')\n",
    "        \n",
    "labels = np.array(imp_df.feature.values)\n",
    "ind = np.arange(len(labels))\n",
    "width = 0.9\n",
    "fig, ax = plt.subplots(figsize=(12,6))\n",
    "rects = ax.bar(ind, np.array(imp_df.fscore.values), width=width, color='y')\n",
    "ax.set_xticks(ind+((width)/2.))\n",
    "ax.set_xticklabels(labels, rotation='vertical')\n",
    "ax.set_ylabel(\"Importance score\")\n",
    "ax.set_title(\"Variable importance\")\n",
    "autolabel(rects)\n",
    "plt.show()"
   ]
  },
  {
   "cell_type": "code",
   "execution_count": null,
   "metadata": {
    "collapsed": true
   },
   "outputs": [],
   "source": [
    "val_df[x_cols[:]].columns"
   ]
  },
  {
   "cell_type": "code",
   "execution_count": null,
   "metadata": {
    "collapsed": true
   },
   "outputs": [],
   "source": [
    "out_df = pd.DataFrame({'Team1':val_df['team_order'].values})\n",
    "#out_df['Team1']=out_df.sort_values(by='Team1')\n",
    "#out_df['is_batting_team'] = val_df.team.values\n",
    "out_df['innings_over']=val_df['over'].values\n",
    "out_df['innings_score'] = val_df['innings_score'].values\n",
    "out_df['innings_wickets'] = val_df['innings_wickets'].values\n",
    "out_df['score_target'] = val_df['score_target'].values\n",
    "out_df['total_runs'] = val_df['runs.total'].values\n",
    "out_df['predictions'] = list(preds)+[1]\n",
    "out_df.sort_values(['Team1','innings_over'],inplace=True)\n"
   ]
  },
  {
   "cell_type": "code",
   "execution_count": null,
   "metadata": {
    "collapsed": true
   },
   "outputs": [],
   "source": [
    "out_df[out_df['Team1']==0]['innings_over'].max()"
   ]
  },
  {
   "cell_type": "code",
   "execution_count": null,
   "metadata": {
    "collapsed": true,
    "scrolled": true
   },
   "outputs": [],
   "source": [
    "out_df[out_df['Team1']==1]['predictions'].sum()/out_df[out_df['Team1']==1]['innings_over'].max()\n",
    "((out_df[out_df['Team1']==0]['predictions'].sum())-1)/out_df[out_df['Team1']==0]['innings_over'].max()\n",
    "\n",
    "# prob_1=out_df[out_df['Team1']==1]['predictions'].sum()/out_df[out_df['Team1']==1]['innings_over'].max()\n",
    "# prob_2=(out_df[out_df['Team1']==0]['predictions'].sum()-1)/out_df[out_df['Team1']==0]['innings_over'].max()\n",
    "# print(prob_1)\n",
    "# print(prob_2)\n"
   ]
  },
  {
   "cell_type": "code",
   "execution_count": null,
   "metadata": {
    "collapsed": true
   },
   "outputs": [],
   "source": [
    "out_df[out_df['Team1']==0]"
   ]
  },
  {
   "cell_type": "code",
   "execution_count": null,
   "metadata": {
    "collapsed": true
   },
   "outputs": [],
   "source": [
    "out_df[out_df['Team1']==0]['predictions'].max()"
   ]
  },
  {
   "cell_type": "code",
   "execution_count": null,
   "metadata": {
    "collapsed": true
   },
   "outputs": [],
   "source": [
    "fig, ax1 = plt.subplots(figsize=(12,6))\n",
    "ax2 = ax1.twinx()\n",
    "labels = np.array(out_df['innings_over'])\n",
    "ind = np.arange(len(labels))\n",
    "width = 0.7\n",
    "rects = ax1.bar(ind, np.array(out_df['total_runs']), width=width, color=['green']*50 + ['yellow']*50)\n",
    "ax1.set_xticks(ind+((width)/0.2))\n",
    "ax1.set_xticklabels(labels, rotation='vertical')\n",
    "ax1.set_ylabel(\"Runs in the given over\")\n",
    "ax1.set_xlabel(\"Innings and over\")\n",
    "ax1.set_title(\"Win percentage prediction for India vs Sri Lanka - over by over\")\n",
    "\n",
    "ax2.plot(ind+0.35, np.array(out_df['predictions']), color='b', marker='o')\n",
    "ax2.set_ylabel(\"Win percentage\", color='b')\n",
    "ax2.set_ylim([0,1])\n",
    "ax2.grid(b=False)\n",
    "plt.show()"
   ]
  },
  {
   "cell_type": "code",
   "execution_count": null,
   "metadata": {
    "collapsed": true
   },
   "outputs": [],
   "source": []
  },
  {
   "cell_type": "code",
   "execution_count": null,
   "metadata": {
    "collapsed": true
   },
   "outputs": [],
   "source": []
  },
  {
   "cell_type": "code",
   "execution_count": null,
   "metadata": {
    "collapsed": true
   },
   "outputs": [],
   "source": []
  },
  {
   "cell_type": "code",
   "execution_count": null,
   "metadata": {
    "collapsed": true
   },
   "outputs": [],
   "source": []
  },
  {
   "cell_type": "code",
   "execution_count": null,
   "metadata": {
    "collapsed": true
   },
   "outputs": [],
   "source": []
  },
  {
   "cell_type": "code",
   "execution_count": null,
   "metadata": {
    "collapsed": true
   },
   "outputs": [],
   "source": []
  },
  {
   "cell_type": "code",
   "execution_count": null,
   "metadata": {
    "collapsed": true
   },
   "outputs": [],
   "source": []
  }
 ],
 "metadata": {
  "kernelspec": {
   "display_name": "Python 3",
   "language": "python",
   "name": "python3"
  },
  "language_info": {
   "codemirror_mode": {
    "name": "ipython",
    "version": 3
   },
   "file_extension": ".py",
   "mimetype": "text/x-python",
   "name": "python",
   "nbconvert_exporter": "python",
   "pygments_lexer": "ipython3",
   "version": "3.6.3"
  }
 },
 "nbformat": 4,
 "nbformat_minor": 2
}
